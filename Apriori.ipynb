{
  "cells": [
    {
      "cell_type": "markdown",
      "metadata": {
        "id": "dH88pocpkLIO"
      },
      "source": [
        "ابتدا کلاس و متد های مورد نیاز را پیاده سازی میکنیم:"
      ]
    },
    {
      "cell_type": "markdown",
      "metadata": {
        "id": "ETqp23zMkQBI"
      },
      "source": [
        "کلاس مورد نیاز برای نگه داشتن یک مجموعه و مقدار ساپورت آن در قالب یک موجودیت:"
      ]
    },
    {
      "cell_type": "code",
      "execution_count": null,
      "metadata": {
        "id": "XDwL_zkQkeSk"
      },
      "outputs": [],
      "source": [
        "class SupportfulSet:\n",
        "    def __init__(self, the_set, support_count):\n",
        "        self.the_set = the_set\n",
        "        self.support = support_count\n",
        "\n",
        "    def __str__(self):\n",
        "        return f'SET: {self.the_set} | Sup. Count: {self.support}'"
      ]
    },
    {
      "cell_type": "markdown",
      "metadata": {
        "id": "FE5ESQK6khtY"
      },
      "source": [
        "تابع برای تولید اولین مجموعه ورودی الگوریتم برای تولید لیستی از آبجکت های شامل هر آیتم و ساپورت آنها به صورت مستقل:"
      ]
    },
    {
      "cell_type": "code",
      "execution_count": null,
      "metadata": {
        "id": "cFotXQZak5Xe"
      },
      "outputs": [],
      "source": [
        "def get_l1(input: set) -> list:\n",
        "    dict_result = dict()\n",
        "\n",
        "    for transaction in input:\n",
        "        for item in transaction:\n",
        "            if item in dict_result:\n",
        "                dict_result[item] += 1\n",
        "            else:\n",
        "                dict_result[item] = 1\n",
        "\n",
        "    result = list()\n",
        "    for item in dict_result:\n",
        "        result.append(SupportfulSet([item], dict_result[item]))\n",
        "\n",
        "    return result"
      ]
    },
    {
      "cell_type": "markdown",
      "metadata": {
        "id": "VyWtDa2Lk9Ie"
      },
      "source": [
        "تابعی برای جوین زدن اعضای یک مجموعه با یکدیگر به شرطی که در یک عضو با هم اختلاف داشته باشند:"
      ]
    },
    {
      "cell_type": "code",
      "execution_count": null,
      "metadata": {
        "id": "vwl1y1JDlPJe"
      },
      "outputs": [],
      "source": [
        "def perform_join(input: set) -> list:\n",
        "\n",
        "    if(type(input) is dict):\n",
        "        input = [key for key in input]\n",
        "\n",
        "    result = []\n",
        "\n",
        "    for item in input:\n",
        "        for other_item in input:\n",
        "            if other_item != item:\n",
        "                union_set = set()\n",
        "\n",
        "                if type(other_item) is str:\n",
        "                    union_set = { other_item, item }\n",
        "                elif len(set(other_item) - set(item)) == 1:\n",
        "                    union_set = set(item) | set(other_item)\n",
        "\n",
        "                if len(union_set) > 0 and union_set not in result:\n",
        "                    result.append(union_set)\n",
        "\n",
        "    return result"
      ]
    },
    {
      "cell_type": "markdown",
      "metadata": {
        "id": "Th6p8j82lccv"
      },
      "source": [
        "تابع مورد نیاز برای حذف آبجکت هایی که مقدار ساپورت مجموعه ی آنها، از حد نساب کمتر است:"
      ]
    },
    {
      "cell_type": "code",
      "execution_count": null,
      "metadata": {
        "id": "4Bwzcfz7ljeJ"
      },
      "outputs": [],
      "source": [
        "def remove_items_with_invalid_support(input: list, min_sup: int) -> list:\n",
        "    return { SupportfulSet(object.the_set, object.support) for object in input if object.support >= min_sup }"
      ]
    },
    {
      "cell_type": "markdown",
      "metadata": {
        "id": "BXIfCQNGlnwr"
      },
      "source": [
        "تابعی برای تولید زیر مجموعه های یک مجموعه:"
      ]
    },
    {
      "cell_type": "code",
      "execution_count": null,
      "metadata": {
        "id": "S2crjjLml7jO"
      },
      "outputs": [],
      "source": [
        "def get_subsets(input: list, subset_length: int):\n",
        "    import math\n",
        "\n",
        "    input = list(input)\n",
        "    # معادل باینری زیر مجموعه ها را بدست می اوریم\n",
        "    binaries = [bin(item)[2:] for item in range(0, int(math.pow(2, len(input)))) if bin(item)[2:].count('1') == subset_length]\n",
        "    # خروجی دستور بالا، دارای طول به اندازه تعداد اعضای مجموعه ورودی نیست. پس آن را نرمال میکنیم\n",
        "    normalized_binaries = []\n",
        "\n",
        "    for binary in binaries:\n",
        "        temp = binary\n",
        "        while len(temp) < len(input):\n",
        "            temp = '0' + temp\n",
        "        normalized_binaries.append(temp)\n",
        "\n",
        "    result = []\n",
        "\n",
        "    # بر روی رشته های باینری معادل حلقه زده و به ازای هر رشته باینری\n",
        "    # هر جا عدد یک مشاهده شد، عضو نظیر آن در مجموعه ورودی را در یک زیر مجموعه اضافه میکنیم\n",
        "    for binary in normalized_binaries:\n",
        "        subset = []\n",
        "        for index in range(len(binary)):\n",
        "            if binary[index] == '1':\n",
        "                subset.append(input[index])\n",
        "        result.append(subset)\n",
        "\n",
        "    return result\n"
      ]
    },
    {
      "cell_type": "markdown",
      "metadata": {
        "id": "wRscYFx9l-F6"
      },
      "source": [
        "تابعی برای حذف مجموعه هایی که زیر مجموعه های دارای یک عضو کمتر از خود مجموعه، در مجموعه کاندید قبلی حضور ندارند:"
      ]
    },
    {
      "cell_type": "code",
      "execution_count": null,
      "metadata": {
        "id": "9POuWAhzmLdu"
      },
      "outputs": [],
      "source": [
        "def remove_items_with_nonfrequent_subsets(candidate_list: list, previous_level_frequents: dict) -> dict:\n",
        "\n",
        "    must_removed_items = []\n",
        "\n",
        "    previous_level_subsets = [list(obj.the_set) for obj in previous_level_frequents]\n",
        "\n",
        "    for superset in candidate_list:\n",
        "        subsets = get_subsets(superset, len(superset) - 1)\n",
        "        for subset in subsets:\n",
        "            if type(subset) is str:\n",
        "                subset = [subset]\n",
        "            if subset not in previous_level_subsets:\n",
        "                must_removed_items.append(superset)\n",
        "\n",
        "    return [candidate for candidate in candidate_list if candidate not in must_removed_items]"
      ]
    },
    {
      "cell_type": "markdown",
      "metadata": {
        "id": "nWZ-YnF_mPfo"
      },
      "source": [
        "الحاق مقدار ساپورت مجموعه ورودی و برگرداندن شیء از جنس کلاس تعریف شده مخصوص این کار با استفاده از دیتاست مورد استفاده الگوریتم:"
      ]
    },
    {
      "cell_type": "code",
      "execution_count": null,
      "metadata": {
        "id": "SKAKWHInmZ8b"
      },
      "outputs": [],
      "source": [
        "def append_support(candidate_list: list, dataset: list) -> dict:\n",
        "    result = list()\n",
        "\n",
        "    for candidate in candidate_list:\n",
        "        candidate_obj = SupportfulSet(candidate, 0)\n",
        "        for transaction in dataset:\n",
        "            if set(candidate) <= set(transaction):\n",
        "                candidate_obj.support += 1\n",
        "        result.append(candidate_obj)\n",
        "\n",
        "    return result"
      ]
    },
    {
      "cell_type": "markdown",
      "metadata": {
        "id": "vHzn-1w6mhFu"
      },
      "source": [
        "و در نهایت استفاده از تابع های نوشته شده و نوشتن الگوریتم آپریوری:"
      ]
    },
    {
      "cell_type": "code",
      "execution_count": null,
      "metadata": {
        "id": "0LYpWg6mmlb_"
      },
      "outputs": [],
      "source": [
        "def perform_apriori(input: list, min_sup: int) -> list:\n",
        "\n",
        "    if(type(input) is not list):\n",
        "        raise TypeError('list parameter passed to Apriori must be of type list')\n",
        "\n",
        "    if(type(min_sup) is not int):\n",
        "        raise TypeError('min_sup parameter passed to Apriori must be of type int')\n",
        "\n",
        "\n",
        "    found_frequent_set = False\n",
        "    l_k = get_l1(input) # l_k is a list of supportful (has support property :D)  sets\n",
        "\n",
        "    while not found_frequent_set:\n",
        "        c_new = perform_join([object.the_set for object in l_k]) # C_new = k+1-th Candidate set & is a set (not supportful)\n",
        "\n",
        "        c_new = remove_items_with_nonfrequent_subsets(c_new, l_k)\n",
        "\n",
        "        l_k = append_support(c_new, input)\n",
        "\n",
        "        pruned_l_k = remove_items_with_invalid_support(l_k, min_sup)\n",
        "\n",
        "        if(len(pruned_l_k) == 0):\n",
        "            found_frequent_set = True\n",
        "        else:\n",
        "            l_k = pruned_l_k\n",
        "\n",
        "    return l_k\n"
      ]
    },
    {
      "cell_type": "markdown",
      "metadata": {
        "id": "ZjDQzq7vuO9j"
      },
      "source": [
        "پیش از اجرای الگوریتم، تابع دیگری نیز نیاز داریم تا فایل دیتاست را به صورت لیستی از تراکنش ها بخوانیم.\n",
        "\n",
        "**نکته:**\n",
        "\n",
        "\n",
        "این روش نیازمند فایل با پسوند\n",
        "\n",
        "\n",
        "xlsx\n",
        "\n",
        "\n",
        "میباشد که در کگل یافت نشد\n",
        "به ناچار به صورت لوکال آپلود میشود.\n",
        "اما بنده دیتای مورد نظر را در لینک زیر نیز آپلود کرده ام که برای دیگران قابل دانلود میباشد:\n",
        "\n",
        "\n",
        "https://s32.picofile.com/d/8480032150/ec89d384-9cd3-4cb4-a426-86b4936b6d79/games_sales_dataset.xlsx"
      ]
    },
    {
      "cell_type": "code",
      "execution_count": null,
      "metadata": {
        "id": "dw-ZT06mv8_e"
      },
      "outputs": [],
      "source": [
        "def get_data():\n",
        "\n",
        "    import openpyxl\n",
        "    \n",
        "    file_path = input('Enter the path to the Excel file (.xlsx): ')\n",
        "\n",
        "    workbook = openpyxl.load_workbook(file_path)\n",
        "\n",
        "    sheet = workbook.active\n",
        "    transactions = []\n",
        "\n",
        "    for row in sheet.iter_rows(values_only=True):\n",
        "        transaction = []\n",
        "        for cell in row:\n",
        "            if cell is not None:\n",
        "                transaction.append(str(cell))\n",
        "        transactions.append(transaction)\n",
        "\n",
        "    return transactions"
      ]
    },
    {
      "cell_type": "markdown",
      "metadata": {
        "id": "PUoDb5FrmqqE"
      },
      "source": [
        "در اینجا دیتاست مورد نیاز را واکشی و به الگوریتم ارسال میکنیم:\n",
        "\n",
        "دیتاست انتخاب شده در این تمرین، تراکنش های مربوط به خرید بازی های رایانه ای است"
      ]
    },
    {
      "cell_type": "code",
      "execution_count": null,
      "metadata": {
        "colab": {
          "base_uri": "https://localhost:8080/",
          "height": 145
        },
        "id": "MknQFnQx6Me8",
        "outputId": "6abc2819-d762-4bcb-a1fe-0f911781aa46"
      },
      "outputs": [
        {
          "data": {
            "text/html": [
              "\n",
              "     <input type=\"file\" id=\"files-a9553433-e69a-4da1-891e-e3741ecd90ed\" name=\"files[]\" multiple disabled\n",
              "        style=\"border:none\" />\n",
              "     <output id=\"result-a9553433-e69a-4da1-891e-e3741ecd90ed\">\n",
              "      Upload widget is only available when the cell has been executed in the\n",
              "      current browser session. Please rerun this cell to enable.\n",
              "      </output>\n",
              "      <script>// Copyright 2017 Google LLC\n",
              "//\n",
              "// Licensed under the Apache License, Version 2.0 (the \"License\");\n",
              "// you may not use this file except in compliance with the License.\n",
              "// You may obtain a copy of the License at\n",
              "//\n",
              "//      http://www.apache.org/licenses/LICENSE-2.0\n",
              "//\n",
              "// Unless required by applicable law or agreed to in writing, software\n",
              "// distributed under the License is distributed on an \"AS IS\" BASIS,\n",
              "// WITHOUT WARRANTIES OR CONDITIONS OF ANY KIND, either express or implied.\n",
              "// See the License for the specific language governing permissions and\n",
              "// limitations under the License.\n",
              "\n",
              "/**\n",
              " * @fileoverview Helpers for google.colab Python module.\n",
              " */\n",
              "(function(scope) {\n",
              "function span(text, styleAttributes = {}) {\n",
              "  const element = document.createElement('span');\n",
              "  element.textContent = text;\n",
              "  for (const key of Object.keys(styleAttributes)) {\n",
              "    element.style[key] = styleAttributes[key];\n",
              "  }\n",
              "  return element;\n",
              "}\n",
              "\n",
              "// Max number of bytes which will be uploaded at a time.\n",
              "const MAX_PAYLOAD_SIZE = 100 * 1024;\n",
              "\n",
              "function _uploadFiles(inputId, outputId) {\n",
              "  const steps = uploadFilesStep(inputId, outputId);\n",
              "  const outputElement = document.getElementById(outputId);\n",
              "  // Cache steps on the outputElement to make it available for the next call\n",
              "  // to uploadFilesContinue from Python.\n",
              "  outputElement.steps = steps;\n",
              "\n",
              "  return _uploadFilesContinue(outputId);\n",
              "}\n",
              "\n",
              "// This is roughly an async generator (not supported in the browser yet),\n",
              "// where there are multiple asynchronous steps and the Python side is going\n",
              "// to poll for completion of each step.\n",
              "// This uses a Promise to block the python side on completion of each step,\n",
              "// then passes the result of the previous step as the input to the next step.\n",
              "function _uploadFilesContinue(outputId) {\n",
              "  const outputElement = document.getElementById(outputId);\n",
              "  const steps = outputElement.steps;\n",
              "\n",
              "  const next = steps.next(outputElement.lastPromiseValue);\n",
              "  return Promise.resolve(next.value.promise).then((value) => {\n",
              "    // Cache the last promise value to make it available to the next\n",
              "    // step of the generator.\n",
              "    outputElement.lastPromiseValue = value;\n",
              "    return next.value.response;\n",
              "  });\n",
              "}\n",
              "\n",
              "/**\n",
              " * Generator function which is called between each async step of the upload\n",
              " * process.\n",
              " * @param {string} inputId Element ID of the input file picker element.\n",
              " * @param {string} outputId Element ID of the output display.\n",
              " * @return {!Iterable<!Object>} Iterable of next steps.\n",
              " */\n",
              "function* uploadFilesStep(inputId, outputId) {\n",
              "  const inputElement = document.getElementById(inputId);\n",
              "  inputElement.disabled = false;\n",
              "\n",
              "  const outputElement = document.getElementById(outputId);\n",
              "  outputElement.innerHTML = '';\n",
              "\n",
              "  const pickedPromise = new Promise((resolve) => {\n",
              "    inputElement.addEventListener('change', (e) => {\n",
              "      resolve(e.target.files);\n",
              "    });\n",
              "  });\n",
              "\n",
              "  const cancel = document.createElement('button');\n",
              "  inputElement.parentElement.appendChild(cancel);\n",
              "  cancel.textContent = 'Cancel upload';\n",
              "  const cancelPromise = new Promise((resolve) => {\n",
              "    cancel.onclick = () => {\n",
              "      resolve(null);\n",
              "    };\n",
              "  });\n",
              "\n",
              "  // Wait for the user to pick the files.\n",
              "  const files = yield {\n",
              "    promise: Promise.race([pickedPromise, cancelPromise]),\n",
              "    response: {\n",
              "      action: 'starting',\n",
              "    }\n",
              "  };\n",
              "\n",
              "  cancel.remove();\n",
              "\n",
              "  // Disable the input element since further picks are not allowed.\n",
              "  inputElement.disabled = true;\n",
              "\n",
              "  if (!files) {\n",
              "    return {\n",
              "      response: {\n",
              "        action: 'complete',\n",
              "      }\n",
              "    };\n",
              "  }\n",
              "\n",
              "  for (const file of files) {\n",
              "    const li = document.createElement('li');\n",
              "    li.append(span(file.name, {fontWeight: 'bold'}));\n",
              "    li.append(span(\n",
              "        `(${file.type || 'n/a'}) - ${file.size} bytes, ` +\n",
              "        `last modified: ${\n",
              "            file.lastModifiedDate ? file.lastModifiedDate.toLocaleDateString() :\n",
              "                                    'n/a'} - `));\n",
              "    const percent = span('0% done');\n",
              "    li.appendChild(percent);\n",
              "\n",
              "    outputElement.appendChild(li);\n",
              "\n",
              "    const fileDataPromise = new Promise((resolve) => {\n",
              "      const reader = new FileReader();\n",
              "      reader.onload = (e) => {\n",
              "        resolve(e.target.result);\n",
              "      };\n",
              "      reader.readAsArrayBuffer(file);\n",
              "    });\n",
              "    // Wait for the data to be ready.\n",
              "    let fileData = yield {\n",
              "      promise: fileDataPromise,\n",
              "      response: {\n",
              "        action: 'continue',\n",
              "      }\n",
              "    };\n",
              "\n",
              "    // Use a chunked sending to avoid message size limits. See b/62115660.\n",
              "    let position = 0;\n",
              "    do {\n",
              "      const length = Math.min(fileData.byteLength - position, MAX_PAYLOAD_SIZE);\n",
              "      const chunk = new Uint8Array(fileData, position, length);\n",
              "      position += length;\n",
              "\n",
              "      const base64 = btoa(String.fromCharCode.apply(null, chunk));\n",
              "      yield {\n",
              "        response: {\n",
              "          action: 'append',\n",
              "          file: file.name,\n",
              "          data: base64,\n",
              "        },\n",
              "      };\n",
              "\n",
              "      let percentDone = fileData.byteLength === 0 ?\n",
              "          100 :\n",
              "          Math.round((position / fileData.byteLength) * 100);\n",
              "      percent.textContent = `${percentDone}% done`;\n",
              "\n",
              "    } while (position < fileData.byteLength);\n",
              "  }\n",
              "\n",
              "  // All done.\n",
              "  yield {\n",
              "    response: {\n",
              "      action: 'complete',\n",
              "    }\n",
              "  };\n",
              "}\n",
              "\n",
              "scope.google = scope.google || {};\n",
              "scope.google.colab = scope.google.colab || {};\n",
              "scope.google.colab._files = {\n",
              "  _uploadFiles,\n",
              "  _uploadFilesContinue,\n",
              "};\n",
              "})(self);\n",
              "</script> "
            ],
            "text/plain": [
              "<IPython.core.display.HTML object>"
            ]
          },
          "metadata": {},
          "output_type": "display_data"
        },
        {
          "name": "stdout",
          "output_type": "stream",
          "text": [
            "Saving games_sales_dataset.xlsx to games_sales_dataset (3).xlsx\n",
            "تعداد تراکنش ها: 12526\n",
            "چند رکورد از تراکنش های واکشی شده:\n",
            "[['God of War', 'The Last of Us', 'Read Dead Redemption', 'Minecraft', 'Grand Theft Auto V', 'Left 4 Dead'], ['Grand Theft Auto V', 'The Last of Us'], ['God of War', \"Assassin's Creed 2\", 'Read Dead Redemption', 'Left 4 Dead'], ['Left 4 Dead', \"Assassin's Creed 2\", 'Super Mario World', 'The Last of Us', 'Read Dead Redemption', 'The Elder Scrolls V: Skyrim'], ['Left 4 Dead', 'Minecraft', 'The Last of Us', 'Dark Souls', 'Read Dead Redemption', 'Resident Evil 4'], ['Dark Souls', \"Assassin's Creed 2\", 'Grand Theft Auto V', 'Resident Evil 4', 'Super Mario World', 'Guitar Hero 3'], ['Resident Evil 4', 'The Last of Us'], ['Read Dead Redemption', 'Grand Theft Auto V', 'Super Mario World'], ['Resident Evil 4', \"Assassin's Creed 2\", 'Read Dead Redemption', 'Minecraft', 'Dark Souls', 'Left 4 Dead'], ['Super Mario World', 'Grand Theft Auto V']]\n"
          ]
        }
      ],
      "source": [
        "transactions = get_data()\n",
        "print(f'تعداد تراکنش ها: {len(transactions)}')\n",
        "print('چند رکورد از تراکنش های واکشی شده:')\n",
        "print(transactions[:10])"
      ]
    },
    {
      "cell_type": "markdown",
      "metadata": {
        "id": "iiAo3iTW9Ez4"
      },
      "source": [
        "اجرای الگوریتم و چاپ مجموعه های دارای الگوی تکراری با حداقل ساپورت 2500\n",
        "علت مقدار 2500 این است که بعد از چندین مرحله اجرای الگوریتم، مقدار ساپورت حدودا بین 2400 تا 2600 میشود\n",
        "و بیشتر از آن موجب حذف تمامی مجموعه ها و کمتر از آن موجب تعدد  مجموعه ها میگردد:"
      ]
    },
    {
      "cell_type": "code",
      "execution_count": null,
      "metadata": {
        "colab": {
          "base_uri": "https://localhost:8080/"
        },
        "id": "BPfmnInK9ERT",
        "outputId": "fb13a9ca-6ea8-4d3a-a5bb-5da6a1c1e8e2"
      },
      "outputs": [
        {
          "name": "stdout",
          "output_type": "stream",
          "text": [
            "مجموعه های پرتکرار:\n",
            "{'God of War', 'The Last of Us', 'Dark Souls'}\n",
            "{'God of War', 'Dark Souls', 'Grand Theft Auto V'}\n",
            "{'God of War', 'Dark Souls', 'Read Dead Redemption'}\n",
            "{'God of War', 'Dark Souls', 'Guitar Hero 3'}\n",
            "{'God of War', 'The Last of Us', 'Grand Theft Auto V'}\n",
            "{'God of War', 'The Last of Us', 'Guitar Hero 3'}\n",
            "{'God of War', 'The Last of Us', 'Read Dead Redemption'}\n",
            "{'Dark Souls', 'Grand Theft Auto V', 'Super Mario World'}\n",
            "{'The Elder Scrolls V: Skyrim', 'The Last of Us', 'Grand Theft Auto V'}\n",
            "{'The Last of Us', 'Guitar Hero 3', 'Grand Theft Auto V'}\n",
            "{'The Last of Us', 'Dark Souls', 'Grand Theft Auto V'}\n",
            "{'The Last of Us', 'Grand Theft Auto V', 'Read Dead Redemption'}\n",
            "{'The Elder Scrolls V: Skyrim', 'Left 4 Dead', 'The Last of Us'}\n",
            "{'The Elder Scrolls V: Skyrim', 'The Last of Us', 'Guitar Hero 3'}\n",
            "{'The Elder Scrolls V: Skyrim', 'The Last of Us', 'Minecraft'}\n",
            "{'God of War', 'The Elder Scrolls V: Skyrim', 'Guitar Hero 3'}\n",
            "{'God of War', 'The Elder Scrolls V: Skyrim', 'Grand Theft Auto V'}\n",
            "{'Left 4 Dead', 'The Last of Us', 'Minecraft'}\n",
            "{'The Elder Scrolls V: Skyrim', 'Guitar Hero 3', 'Grand Theft Auto V'}\n",
            "{'Resident Evil 4', 'Guitar Hero 3', 'Grand Theft Auto V'}\n",
            "{'Dark Souls', 'Guitar Hero 3', 'Grand Theft Auto V'}\n",
            "{'God of War', 'Guitar Hero 3', 'Grand Theft Auto V'}\n",
            "{'The Last of Us', 'Dark Souls', 'Read Dead Redemption'}\n",
            "{'The Last of Us', 'Dark Souls', 'Minecraft'}\n",
            "{'The Last of Us', 'Dark Souls', 'Guitar Hero 3'}\n",
            "{'The Elder Scrolls V: Skyrim', 'Left 4 Dead', 'Minecraft'}\n",
            "{'Resident Evil 4', 'Grand Theft Auto V', 'Super Mario World'}\n",
            "{'Resident Evil 4', 'Grand Theft Auto V', 'Read Dead Redemption'}\n",
            "{'Dark Souls', 'Grand Theft Auto V', 'Read Dead Redemption'}\n",
            "{'The Elder Scrolls V: Skyrim', 'Grand Theft Auto V', 'Super Mario World'}\n",
            "{'Dark Souls', 'Minecraft', 'Read Dead Redemption'}\n",
            "{'Dark Souls', 'Guitar Hero 3', 'Minecraft'}\n",
            "{'The Last of Us', 'Guitar Hero 3', 'Minecraft'}\n",
            "{'God of War', 'Grand Theft Auto V', 'Read Dead Redemption'}\n",
            "{'The Last of Us', 'Minecraft', 'Read Dead Redemption'}\n",
            "تعداد : 35\n"
          ]
        }
      ],
      "source": [
        "result = perform_apriori(transactions, 2500)\n",
        "\n",
        "print('مجموعه های پرتکرار:')\n",
        "for obj in result:\n",
        "  print(obj.the_set)\n",
        "\n",
        "print(f'تعداد : {len(result)}')"
      ]
    }
  ],
  "metadata": {
    "colab": {
      "provenance": []
    },
    "kernelspec": {
      "display_name": "Python 3",
      "name": "python3"
    },
    "language_info": {
      "name": "python"
    }
  },
  "nbformat": 4,
  "nbformat_minor": 0
}
