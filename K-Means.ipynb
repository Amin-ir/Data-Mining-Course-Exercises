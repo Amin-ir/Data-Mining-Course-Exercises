{
  "cells": [
    {
      "cell_type": "code",
      "execution_count": 1,
      "metadata": {
        "id": "Kwr6Jf9G8sUz"
      },
      "outputs": [],
      "source": [
        "import pandas as pd\n",
        "import random\n",
        "import operator\n",
        "import math"
      ]
    },
    {
      "cell_type": "code",
      "execution_count": 2,
      "metadata": {
        "colab": {
          "base_uri": "https://localhost:8080/"
        },
        "id": "k1A3qlCy8sU0",
        "outputId": "97249c62-7ed7-4bf7-ff5a-c4e106e6631b"
      },
      "outputs": [
        {
          "name": "stdout",
          "output_type": "stream",
          "text": [
            "<class 'pandas.core.frame.DataFrame'>\n",
            "RangeIndex: 2500 entries, 0 to 2499\n",
            "Data columns (total 6 columns):\n",
            " #   Column       Non-Null Count  Dtype  \n",
            "---  ------       --------------  -----  \n",
            " 0   Temperature  2500 non-null   float64\n",
            " 1   Humidity     2500 non-null   float64\n",
            " 2   Wind_Speed   2500 non-null   float64\n",
            " 3   Cloud_Cover  2500 non-null   float64\n",
            " 4   Pressure     2500 non-null   float64\n",
            " 5   Rain         2500 non-null   object \n",
            "dtypes: float64(5), object(1)\n",
            "memory usage: 117.3+ KB\n"
          ]
        }
      ],
      "source": [
        "df = pd.read_csv('./datasets/weather_forecast_data.csv')\n",
        "df.info()"
      ]
    },
    {
      "cell_type": "code",
      "execution_count": 3,
      "metadata": {
        "id": "TkiXfuqO8sU1"
      },
      "outputs": [],
      "source": [
        "df.drop(columns=['Rain'], inplace=True)"
      ]
    },
    {
      "cell_type": "code",
      "execution_count": 4,
      "metadata": {
        "id": "GWGZVSwl8sU1"
      },
      "outputs": [],
      "source": [
        "def choose_random_initial_centroids(k: int, dataset: pd.DataFrame):\n",
        "    result = []\n",
        "    possible_indices = [index for index, row in dataset.iterrows()]\n",
        "\n",
        "    while len(result) != k:\n",
        "        index = random.choice(possible_indices)\n",
        "        result.append(df.loc[index])\n",
        "        possible_indices.remove(index)\n",
        "\n",
        "    return result"
      ]
    },
    {
      "cell_type": "code",
      "execution_count": 5,
      "metadata": {
        "id": "wOijqhwU8sU2"
      },
      "outputs": [],
      "source": [
        "class Cluster:\n",
        "    def __init__(self, centroid: pd.Series, members: pd.DataFrame):\n",
        "        self.centroid = centroid\n",
        "        self.members = members\n",
        "        self.id = self.generate_id()\n",
        "\n",
        "    def generate_id(self):\n",
        "        candids = ['a', 'b', 'c', 'd', 'e', 'f', 'g', 'h']\n",
        "        id = ''\n",
        "        for i in range(0, 20):\n",
        "            id += random.choice(candids)\n",
        "\n",
        "        return id"
      ]
    },
    {
      "cell_type": "code",
      "execution_count": 6,
      "metadata": {
        "id": "7-sLoBIb8sU2"
      },
      "outputs": [],
      "source": [
        "def calculate_euclidean_distance(obj: pd.Series, centroid: pd.Series):\n",
        "    result = 0\n",
        "    for attribute in obj.keys():\n",
        "        result += pow(obj[attribute] - centroid[attribute], 2)\n",
        "\n",
        "    result = math.sqrt(result)\n",
        "    return result"
      ]
    },
    {
      "cell_type": "code",
      "execution_count": 7,
      "metadata": {
        "id": "i3KBqNS48sU2"
      },
      "outputs": [],
      "source": [
        "def get_mean_point(cluster: Cluster):\n",
        "    new_centroid = pd.Series()\n",
        "    attributes = cluster.members.keys()\n",
        "    for attribute in attributes:\n",
        "        new_centroid[attribute] = float(cluster.members[attribute].mean())\n",
        "\n",
        "    return new_centroid"
      ]
    },
    {
      "cell_type": "code",
      "execution_count": 8,
      "metadata": {
        "id": "VD9E9wkk8sU2"
      },
      "outputs": [],
      "source": [
        "def perform_k_means(k: int, dataset: pd.DataFrame):\n",
        "    initial_means = choose_random_initial_centroids(k, df)\n",
        "    stable = False\n",
        "    columns = list(dataset.keys())\n",
        "    clusters = [Cluster(mean, pd.DataFrame(columns=columns)) for mean in initial_means]\n",
        "    while not stable:\n",
        "        clusters = [Cluster(c.centroid, pd.DataFrame(columns=columns)) for c in clusters]\n",
        "        for _, row in dataset.iterrows():\n",
        "            distance_to_centroids = dict()\n",
        "            for cluster in clusters:\n",
        "                distance_to_centroids[cluster.id] = calculate_euclidean_distance(row, cluster.centroid)\n",
        "            closest_cluster_id = min(distance_to_centroids.items(), key=operator.itemgetter(1))[0]\n",
        "            corresponding_cluster = next((c for c in clusters if c.id == closest_cluster_id), None)\n",
        "            corresponding_cluster.members.loc[len(corresponding_cluster.members)] = row\n",
        "\n",
        "        stable = True\n",
        "        for cluster in clusters:\n",
        "            new_centroid = get_mean_point(cluster)\n",
        "            if calculate_euclidean_distance(cluster.centroid, new_centroid) > .01: # if new centroids are far different, repeat the loop\n",
        "                stable = False\n",
        "            cluster.centroid = new_centroid\n",
        "\n",
        "    return clusters"
      ]
    },
    {
      "cell_type": "code",
      "execution_count": 9,
      "metadata": {
        "id": "-nhgtzd-8sU2"
      },
      "outputs": [],
      "source": [
        "clusters = perform_k_means(5, df)"
      ]
    },
    {
      "cell_type": "code",
      "execution_count": 10,
      "metadata": {
        "colab": {
          "base_uri": "https://localhost:8080/"
        },
        "id": "CeC4mMKS8sU2",
        "outputId": "88cbb208-8d9a-4fbe-c4f7-84e5495421db"
      },
      "outputs": [
        {
          "name": "stdout",
          "output_type": "stream",
          "text": [
            "Centroid:\n",
            " Temperature      22.589719\n",
            "Humidity         64.741542\n",
            "Wind_Speed       10.022640\n",
            "Cloud_Cover      74.838801\n",
            "Pressure       1032.942281\n",
            "dtype: float64\n",
            "------------------------------\n",
            "Centroid:\n",
            " Temperature      22.186172\n",
            "Humidity         84.135053\n",
            "Wind_Speed        9.805439\n",
            "Cloud_Cover      28.494542\n",
            "Pressure       1001.393942\n",
            "dtype: float64\n",
            "------------------------------\n",
            "Centroid:\n",
            " Temperature     23.266930\n",
            "Humidity        46.298601\n",
            "Wind_Speed      10.024293\n",
            "Cloud_Cover     32.412432\n",
            "Pressure       998.165711\n",
            "dtype: float64\n",
            "------------------------------\n",
            "Centroid:\n",
            " Temperature      22.454077\n",
            "Humidity         60.049611\n",
            "Wind_Speed        9.753121\n",
            "Cloud_Cover      21.806998\n",
            "Pressure       1033.849150\n",
            "dtype: float64\n",
            "------------------------------\n",
            "Centroid:\n",
            " Temperature     22.485126\n",
            "Humidity        65.510887\n",
            "Wind_Speed       9.910101\n",
            "Cloud_Cover     79.397697\n",
            "Pressure       997.623096\n",
            "dtype: float64\n",
            "------------------------------\n"
          ]
        }
      ],
      "source": [
        "for cluster in clusters:\n",
        "    print(f'Centroid:\\n {cluster.centroid}')\n",
        "    print('------------------------------')\n",
        "\n",
        "# cluster members are printable too. avoided for neatness"
      ]
    }
  ],
  "metadata": {
    "colab": {
      "provenance": []
    },
    "kernelspec": {
      "display_name": "Python 3",
      "language": "python",
      "name": "python3"
    },
    "language_info": {
      "codemirror_mode": {
        "name": "ipython",
        "version": 3
      },
      "file_extension": ".py",
      "mimetype": "text/x-python",
      "name": "python",
      "nbconvert_exporter": "python",
      "pygments_lexer": "ipython3",
      "version": "3.13.0"
    }
  },
  "nbformat": 4,
  "nbformat_minor": 0
}
