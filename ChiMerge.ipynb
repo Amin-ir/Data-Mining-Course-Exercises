{
 "cells": [
  {
   "cell_type": "markdown",
   "metadata": {},
   "source": [
    "Required class for holding interval data & corresponding methods (e.g. merge)"
   ]
  },
  {
   "cell_type": "code",
   "execution_count": 2,
   "metadata": {},
   "outputs": [],
   "source": [
    "class Interval:\n",
    "    def __init__(self, lower_bound, upper_bound) -> None:\n",
    "\n",
    "        if lower_bound > upper_bound:\n",
    "            temp = lower_bound\n",
    "            lower_bound = upper_bound\n",
    "            upper_bound = temp\n",
    "\n",
    "        self.lower_bound = float(lower_bound)\n",
    "        self.upper_bound = float(upper_bound)\n",
    "        \n",
    "    def __str__(self) -> str:\n",
    "        return f'[{self.lower_bound}, {self.upper_bound}]'\n",
    "    \n",
    "    def merge(self, other_interval):\n",
    "        new_interval_lower_bound = min(self.lower_bound, float(other_interval.lower_bound))\n",
    "        new_interval_upper_bound = max(self.upper_bound, float(other_interval.upper_bound))\n",
    "        return Interval(new_interval_lower_bound, new_interval_upper_bound)\n",
    "    \n",
    "    def contains(self, number):\n",
    "        return self.lower_bound <= number <= self.upper_bound\n",
    "        \n",
    "    def __eq__(self, other) -> bool:\n",
    "        if not isinstance(other, Interval):\n",
    "            return False\n",
    "        return (abs(self.lower_bound - other.lower_bound) < 1e-10 and \n",
    "                abs(self.upper_bound - other.upper_bound) < 1e-10)"
   ]
  },
  {
   "cell_type": "markdown",
   "metadata": {},
   "source": [
    "Function for counting rows at which values of passed column, fall in the passed interval"
   ]
  },
  {
   "cell_type": "code",
   "execution_count": 3,
   "metadata": {},
   "outputs": [],
   "source": [
    "import pandas as pd\n",
    "def count_occurence(interval: Interval, species_type: str, column_name: str, dataset: pd.DataFrame) -> int:\n",
    "    return len([row for index, row in dataset.iterrows() if dict(row)['species'] == species_type and interval.contains(float(dict(row)[column_name]))])"
   ]
  },
  {
   "cell_type": "markdown",
   "metadata": {},
   "source": [
    "Function for creating contingency table and returning its data + visual representation as string"
   ]
  },
  {
   "cell_type": "code",
   "execution_count": 4,
   "metadata": {},
   "outputs": [],
   "source": [
    "def create_contingency_table(interval1: Interval, interval2: Interval,column_name: str, dataset: pd.DataFrame):\n",
    "    from tabulate import tabulate\n",
    "\n",
    "    headers = ['Interval']\n",
    "    headers.extend(dataset['species'].unique().tolist())\n",
    "    headers.append('Total')\n",
    "\n",
    "    interval1_row = [\n",
    "        str(interval1),\n",
    "        count_occurence(interval1, headers[1], column_name, dataset),\n",
    "        count_occurence(interval1, headers[2], column_name, dataset),\n",
    "        count_occurence(interval1, headers[3], column_name, dataset),\n",
    "        0\n",
    "    ]\n",
    "    \n",
    "    interval1_row[4] = interval1_row[1] + interval1_row[2] + interval1_row[3]\n",
    "\n",
    "    interval2_row = [\n",
    "        str(interval2),\n",
    "        count_occurence(interval2, headers[1], column_name, dataset),\n",
    "        count_occurence(interval2, headers[2], column_name, dataset),\n",
    "        count_occurence(interval2, headers[3], column_name, dataset),\n",
    "        0\n",
    "    ]\n",
    "\n",
    "    interval2_row[4] = interval2_row[1] + interval2_row[2] + interval2_row[3]\n",
    "\n",
    "    total_row = [\n",
    "        '-',\n",
    "        interval1_row[1] + interval2_row[1],\n",
    "        interval1_row[2] + interval2_row[2],\n",
    "        interval1_row[3] + interval2_row[3],\n",
    "        interval1_row[4] + interval2_row[4],\n",
    "    ]\n",
    "\n",
    "    table_data = [interval1_row, interval2_row, total_row]\n",
    "\n",
    "    table = tabulate(table_data, headers=headers, numalign='center', tablefmt='grid')\n",
    "\n",
    "    return table, table_data"
   ]
  },
  {
   "cell_type": "markdown",
   "metadata": {},
   "source": [
    "Function for calculating chi-square of two passed intervals"
   ]
  },
  {
   "cell_type": "code",
   "execution_count": 5,
   "metadata": {},
   "outputs": [],
   "source": [
    "def get_chi_square(interval1: Interval, interval2: Interval,column_name: str, dataset: pd.DataFrame):\n",
    "    contingency_table, table_data = create_contingency_table(interval1, interval2, column_name, dataset)\n",
    "\n",
    "    total_freqs = table_data[2][4]\n",
    "    chi_square = 0\n",
    "    for row_index in range(0, 2):\n",
    "        for column_index in range(1, 4):\n",
    "            expected_frequency = table_data[row_index][4] * table_data[2][column_index] / total_freqs\n",
    "            expected_frequency += 1e-10 # prevent division by zero\n",
    "            chi_square += ((table_data[row_index][column_index] - expected_frequency)) ** 2 / expected_frequency\n",
    "\n",
    "    return chi_square"
   ]
  },
  {
   "cell_type": "markdown",
   "metadata": {},
   "source": [
    "Apriori algorithm with the help of created functions on all columns of the loop"
   ]
  },
  {
   "cell_type": "code",
   "execution_count": 6,
   "metadata": {},
   "outputs": [],
   "source": [
    "def perform_chi_merge(df, max_intervals, chi_threshold):\n",
    "\n",
    "    intervals = dict()\n",
    "\n",
    "    for column in df.columns:\n",
    "\n",
    "        if column == 'species':\n",
    "            continue\n",
    "\n",
    "        values = df[column].dropna().unique()\n",
    "        intervals[column] = [Interval(v, v) for v in sorted(values)]\n",
    "\n",
    "        reached_max_interval = False\n",
    "        while not reached_max_interval:\n",
    "            \n",
    "            min_chi_square = tuple()\n",
    "            for index in range(len(intervals[column])):\n",
    "                \n",
    "                if index == len(intervals[column]) - 1: # index + 1 will raise error at last iteration\n",
    "                    continue\n",
    "                interval1 = intervals[column][index]\n",
    "                interval2 = intervals[column][index + 1]\n",
    "                chi_square = get_chi_square(interval1, interval2, column, df)\n",
    "                if min_chi_square == () or chi_square < min_chi_square[2]: # [2] = prev. level chi_square\n",
    "                    min_chi_square = (interval1, interval2, chi_square)\n",
    "\n",
    "            new_interval = min_chi_square[0].merge(min_chi_square[1])\n",
    "            intervals[column][intervals[column].index(min_chi_square[0])] = new_interval\n",
    "            intervals[column].remove(min_chi_square[1])\n",
    "\n",
    "            reached_max_interval = len(intervals[column]) == max_intervals or min_chi_square[2] > chi_threshold\n",
    "\n",
    "    return intervals"
   ]
  },
  {
   "cell_type": "markdown",
   "metadata": {},
   "source": [
    "Loading the dataset, specifying the column headers and running the algorithm"
   ]
  },
  {
   "cell_type": "code",
   "execution_count": 8,
   "metadata": {},
   "outputs": [
    {
     "name": "stdout",
     "output_type": "stream",
     "text": [
      "intervals found for sepal_length:\n",
      "[4.3, 4.8]\n",
      "[4.9, 4.9]\n",
      "[5.0, 5.4]\n",
      "[5.5, 5.7]\n",
      "[5.8, 7.0]\n",
      "[7.1, 7.9]\n",
      "intervals found for sepal_width:\n",
      "[2.0, 2.2]\n",
      "[2.3, 2.4]\n",
      "[2.5, 2.8]\n",
      "[2.9, 2.9]\n",
      "[3.0, 3.3]\n",
      "[3.4, 4.4]\n",
      "intervals found for petal_length:\n",
      "[1.0, 1.9]\n",
      "[3.0, 4.4]\n",
      "[4.5, 4.7]\n",
      "[4.8, 4.9]\n",
      "[5.0, 5.1]\n",
      "[5.2, 6.9]\n",
      "intervals found for petal_width:\n",
      "[0.1, 0.6]\n",
      "[1.0, 1.3]\n",
      "[1.4, 1.6]\n",
      "[1.7, 1.7]\n",
      "[1.8, 1.8]\n",
      "[1.9, 2.5]\n"
     ]
    }
   ],
   "source": [
    "df = pd.read_csv('./datasets/iris.csv', header=None)\n",
    "df = df[0].str.replace('\"', '').str.split(',', expand=True)\n",
    "df.columns = ['sepal_length', 'sepal_width', 'petal_length', 'petal_width', 'species']\n",
    "\n",
    "intervals = perform_chi_merge(df, max_intervals=6, chi_threshold=5.991)\n",
    "\n",
    "for column in intervals:\n",
    "    print(f'intervals found for {column}:')\n",
    "    for interval in intervals[column]:\n",
    "        print(interval)"
   ]
  }
 ],
 "metadata": {
  "kernelspec": {
   "display_name": "Python 3",
   "language": "python",
   "name": "python3"
  },
  "language_info": {
   "codemirror_mode": {
    "name": "ipython",
    "version": 3
   },
   "file_extension": ".py",
   "mimetype": "text/x-python",
   "name": "python",
   "nbconvert_exporter": "python",
   "pygments_lexer": "ipython3",
   "version": "3.13.0"
  }
 },
 "nbformat": 4,
 "nbformat_minor": 2
}
